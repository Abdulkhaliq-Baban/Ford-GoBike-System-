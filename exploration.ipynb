{
 "cells": [
  {
   "cell_type": "markdown",
   "metadata": {},
   "source": [
    "# (Ford GoBike System Data in Jan 2018)\n",
    "## by (Abdulkhaliq G. Baban)\n",
    "\n",
    "## Preliminary Wrangling\n",
    "\n",
    ">This document is exploring & visualizing the trips of Ford GoBike system data for public containing around 85,000 rides in  Jan 2018.\n"
   ]
  },
  {
   "cell_type": "code",
   "execution_count": 1,
   "metadata": {},
   "outputs": [],
   "source": [
    "# import all packages and set plots to be embedded inline\n",
    "import numpy as np\n",
    "import pandas as pd\n",
    "import matplotlib.pyplot as plt\n",
    "import seaborn as sb\n",
    "\n",
    "%matplotlib inline"
   ]
  },
  {
   "cell_type": "code",
   "execution_count": 2,
   "metadata": {},
   "outputs": [
    {
     "data": {
      "text/html": [
       "<div>\n",
       "<style scoped>\n",
       "    .dataframe tbody tr th:only-of-type {\n",
       "        vertical-align: middle;\n",
       "    }\n",
       "\n",
       "    .dataframe tbody tr th {\n",
       "        vertical-align: top;\n",
       "    }\n",
       "\n",
       "    .dataframe thead th {\n",
       "        text-align: right;\n",
       "    }\n",
       "</style>\n",
       "<table border=\"1\" class=\"dataframe\">\n",
       "  <thead>\n",
       "    <tr style=\"text-align: right;\">\n",
       "      <th></th>\n",
       "      <th>duration_sec</th>\n",
       "      <th>start_time</th>\n",
       "      <th>end_time</th>\n",
       "      <th>start_station_id</th>\n",
       "      <th>start_station_name</th>\n",
       "      <th>start_station_latitude</th>\n",
       "      <th>start_station_longitude</th>\n",
       "      <th>end_station_id</th>\n",
       "      <th>end_station_name</th>\n",
       "      <th>end_station_latitude</th>\n",
       "      <th>end_station_longitude</th>\n",
       "      <th>bike_id</th>\n",
       "      <th>user_type</th>\n",
       "      <th>member_birth_year</th>\n",
       "      <th>member_gender</th>\n",
       "      <th>bike_share_for_all_trip</th>\n",
       "    </tr>\n",
       "  </thead>\n",
       "  <tbody>\n",
       "    <tr>\n",
       "      <th>0</th>\n",
       "      <td>75284</td>\n",
       "      <td>2018-01-31 22:52:35.2390</td>\n",
       "      <td>2018-02-01 19:47:19.8240</td>\n",
       "      <td>120</td>\n",
       "      <td>Mission Dolores Park</td>\n",
       "      <td>37.761420</td>\n",
       "      <td>-122.426435</td>\n",
       "      <td>285</td>\n",
       "      <td>Webster St at O'Farrell St</td>\n",
       "      <td>37.783521</td>\n",
       "      <td>-122.431158</td>\n",
       "      <td>2765</td>\n",
       "      <td>Subscriber</td>\n",
       "      <td>1986.0</td>\n",
       "      <td>Male</td>\n",
       "      <td>No</td>\n",
       "    </tr>\n",
       "    <tr>\n",
       "      <th>1</th>\n",
       "      <td>85422</td>\n",
       "      <td>2018-01-31 16:13:34.3510</td>\n",
       "      <td>2018-02-01 15:57:17.3100</td>\n",
       "      <td>15</td>\n",
       "      <td>San Francisco Ferry Building (Harry Bridges Pl...</td>\n",
       "      <td>37.795392</td>\n",
       "      <td>-122.394203</td>\n",
       "      <td>15</td>\n",
       "      <td>San Francisco Ferry Building (Harry Bridges Pl...</td>\n",
       "      <td>37.795392</td>\n",
       "      <td>-122.394203</td>\n",
       "      <td>2815</td>\n",
       "      <td>Customer</td>\n",
       "      <td>NaN</td>\n",
       "      <td>NaN</td>\n",
       "      <td>No</td>\n",
       "    </tr>\n",
       "    <tr>\n",
       "      <th>2</th>\n",
       "      <td>71576</td>\n",
       "      <td>2018-01-31 14:23:55.8890</td>\n",
       "      <td>2018-02-01 10:16:52.1160</td>\n",
       "      <td>304</td>\n",
       "      <td>Jackson St at 5th St</td>\n",
       "      <td>37.348759</td>\n",
       "      <td>-121.894798</td>\n",
       "      <td>296</td>\n",
       "      <td>5th St at Virginia St</td>\n",
       "      <td>37.325998</td>\n",
       "      <td>-121.877120</td>\n",
       "      <td>3039</td>\n",
       "      <td>Customer</td>\n",
       "      <td>1996.0</td>\n",
       "      <td>Male</td>\n",
       "      <td>No</td>\n",
       "    </tr>\n",
       "    <tr>\n",
       "      <th>3</th>\n",
       "      <td>61076</td>\n",
       "      <td>2018-01-31 14:53:23.5620</td>\n",
       "      <td>2018-02-01 07:51:20.5000</td>\n",
       "      <td>75</td>\n",
       "      <td>Market St at Franklin St</td>\n",
       "      <td>37.773793</td>\n",
       "      <td>-122.421239</td>\n",
       "      <td>47</td>\n",
       "      <td>4th St at Harrison St</td>\n",
       "      <td>37.780955</td>\n",
       "      <td>-122.399749</td>\n",
       "      <td>321</td>\n",
       "      <td>Customer</td>\n",
       "      <td>NaN</td>\n",
       "      <td>NaN</td>\n",
       "      <td>No</td>\n",
       "    </tr>\n",
       "    <tr>\n",
       "      <th>4</th>\n",
       "      <td>39966</td>\n",
       "      <td>2018-01-31 19:52:24.6670</td>\n",
       "      <td>2018-02-01 06:58:31.0530</td>\n",
       "      <td>74</td>\n",
       "      <td>Laguna St at Hayes St</td>\n",
       "      <td>37.776435</td>\n",
       "      <td>-122.426244</td>\n",
       "      <td>19</td>\n",
       "      <td>Post St at Kearny St</td>\n",
       "      <td>37.788975</td>\n",
       "      <td>-122.403452</td>\n",
       "      <td>617</td>\n",
       "      <td>Subscriber</td>\n",
       "      <td>1991.0</td>\n",
       "      <td>Male</td>\n",
       "      <td>No</td>\n",
       "    </tr>\n",
       "    <tr>\n",
       "      <th>5</th>\n",
       "      <td>6477</td>\n",
       "      <td>2018-01-31 22:58:44.8670</td>\n",
       "      <td>2018-02-01 00:46:41.9080</td>\n",
       "      <td>236</td>\n",
       "      <td>Market St at 8th St</td>\n",
       "      <td>37.803686</td>\n",
       "      <td>-122.282497</td>\n",
       "      <td>160</td>\n",
       "      <td>West Oakland BART Station</td>\n",
       "      <td>37.805318</td>\n",
       "      <td>-122.294837</td>\n",
       "      <td>1306</td>\n",
       "      <td>Customer</td>\n",
       "      <td>NaN</td>\n",
       "      <td>NaN</td>\n",
       "      <td>No</td>\n",
       "    </tr>\n",
       "    <tr>\n",
       "      <th>6</th>\n",
       "      <td>453</td>\n",
       "      <td>2018-01-31 23:53:53.6320</td>\n",
       "      <td>2018-02-01 00:01:26.8050</td>\n",
       "      <td>110</td>\n",
       "      <td>17th &amp; Folsom Street Park (17th St at Folsom St)</td>\n",
       "      <td>37.763708</td>\n",
       "      <td>-122.415204</td>\n",
       "      <td>134</td>\n",
       "      <td>Valencia St at 24th St</td>\n",
       "      <td>37.752428</td>\n",
       "      <td>-122.420628</td>\n",
       "      <td>3571</td>\n",
       "      <td>Subscriber</td>\n",
       "      <td>1988.0</td>\n",
       "      <td>Male</td>\n",
       "      <td>No</td>\n",
       "    </tr>\n",
       "    <tr>\n",
       "      <th>7</th>\n",
       "      <td>180</td>\n",
       "      <td>2018-01-31 23:52:09.9030</td>\n",
       "      <td>2018-01-31 23:55:10.8070</td>\n",
       "      <td>81</td>\n",
       "      <td>Berry St at 4th St</td>\n",
       "      <td>37.775880</td>\n",
       "      <td>-122.393170</td>\n",
       "      <td>93</td>\n",
       "      <td>4th St at Mission Bay Blvd S</td>\n",
       "      <td>37.770407</td>\n",
       "      <td>-122.391198</td>\n",
       "      <td>1403</td>\n",
       "      <td>Subscriber</td>\n",
       "      <td>1980.0</td>\n",
       "      <td>Male</td>\n",
       "      <td>No</td>\n",
       "    </tr>\n",
       "    <tr>\n",
       "      <th>8</th>\n",
       "      <td>996</td>\n",
       "      <td>2018-01-31 23:34:56.0040</td>\n",
       "      <td>2018-01-31 23:51:32.6740</td>\n",
       "      <td>134</td>\n",
       "      <td>Valencia St at 24th St</td>\n",
       "      <td>37.752428</td>\n",
       "      <td>-122.420628</td>\n",
       "      <td>4</td>\n",
       "      <td>Cyril Magnin St at Ellis St</td>\n",
       "      <td>37.785881</td>\n",
       "      <td>-122.408915</td>\n",
       "      <td>3675</td>\n",
       "      <td>Subscriber</td>\n",
       "      <td>1987.0</td>\n",
       "      <td>Male</td>\n",
       "      <td>Yes</td>\n",
       "    </tr>\n",
       "    <tr>\n",
       "      <th>9</th>\n",
       "      <td>825</td>\n",
       "      <td>2018-01-31 23:34:14.0270</td>\n",
       "      <td>2018-01-31 23:47:59.8090</td>\n",
       "      <td>305</td>\n",
       "      <td>Ryland Park</td>\n",
       "      <td>37.342725</td>\n",
       "      <td>-121.895617</td>\n",
       "      <td>317</td>\n",
       "      <td>San Salvador St at 9th St</td>\n",
       "      <td>37.333955</td>\n",
       "      <td>-121.877349</td>\n",
       "      <td>1453</td>\n",
       "      <td>Subscriber</td>\n",
       "      <td>1994.0</td>\n",
       "      <td>Female</td>\n",
       "      <td>Yes</td>\n",
       "    </tr>\n",
       "  </tbody>\n",
       "</table>\n",
       "</div>"
      ],
      "text/plain": [
       "   duration_sec                start_time                  end_time  \\\n",
       "0         75284  2018-01-31 22:52:35.2390  2018-02-01 19:47:19.8240   \n",
       "1         85422  2018-01-31 16:13:34.3510  2018-02-01 15:57:17.3100   \n",
       "2         71576  2018-01-31 14:23:55.8890  2018-02-01 10:16:52.1160   \n",
       "3         61076  2018-01-31 14:53:23.5620  2018-02-01 07:51:20.5000   \n",
       "4         39966  2018-01-31 19:52:24.6670  2018-02-01 06:58:31.0530   \n",
       "5          6477  2018-01-31 22:58:44.8670  2018-02-01 00:46:41.9080   \n",
       "6           453  2018-01-31 23:53:53.6320  2018-02-01 00:01:26.8050   \n",
       "7           180  2018-01-31 23:52:09.9030  2018-01-31 23:55:10.8070   \n",
       "8           996  2018-01-31 23:34:56.0040  2018-01-31 23:51:32.6740   \n",
       "9           825  2018-01-31 23:34:14.0270  2018-01-31 23:47:59.8090   \n",
       "\n",
       "   start_station_id                                 start_station_name  \\\n",
       "0               120                               Mission Dolores Park   \n",
       "1                15  San Francisco Ferry Building (Harry Bridges Pl...   \n",
       "2               304                               Jackson St at 5th St   \n",
       "3                75                           Market St at Franklin St   \n",
       "4                74                              Laguna St at Hayes St   \n",
       "5               236                                Market St at 8th St   \n",
       "6               110   17th & Folsom Street Park (17th St at Folsom St)   \n",
       "7                81                                 Berry St at 4th St   \n",
       "8               134                             Valencia St at 24th St   \n",
       "9               305                                        Ryland Park   \n",
       "\n",
       "   start_station_latitude  start_station_longitude  end_station_id  \\\n",
       "0               37.761420              -122.426435             285   \n",
       "1               37.795392              -122.394203              15   \n",
       "2               37.348759              -121.894798             296   \n",
       "3               37.773793              -122.421239              47   \n",
       "4               37.776435              -122.426244              19   \n",
       "5               37.803686              -122.282497             160   \n",
       "6               37.763708              -122.415204             134   \n",
       "7               37.775880              -122.393170              93   \n",
       "8               37.752428              -122.420628               4   \n",
       "9               37.342725              -121.895617             317   \n",
       "\n",
       "                                    end_station_name  end_station_latitude  \\\n",
       "0                         Webster St at O'Farrell St             37.783521   \n",
       "1  San Francisco Ferry Building (Harry Bridges Pl...             37.795392   \n",
       "2                              5th St at Virginia St             37.325998   \n",
       "3                              4th St at Harrison St             37.780955   \n",
       "4                               Post St at Kearny St             37.788975   \n",
       "5                          West Oakland BART Station             37.805318   \n",
       "6                             Valencia St at 24th St             37.752428   \n",
       "7                       4th St at Mission Bay Blvd S             37.770407   \n",
       "8                        Cyril Magnin St at Ellis St             37.785881   \n",
       "9                          San Salvador St at 9th St             37.333955   \n",
       "\n",
       "   end_station_longitude  bike_id   user_type  member_birth_year  \\\n",
       "0            -122.431158     2765  Subscriber             1986.0   \n",
       "1            -122.394203     2815    Customer                NaN   \n",
       "2            -121.877120     3039    Customer             1996.0   \n",
       "3            -122.399749      321    Customer                NaN   \n",
       "4            -122.403452      617  Subscriber             1991.0   \n",
       "5            -122.294837     1306    Customer                NaN   \n",
       "6            -122.420628     3571  Subscriber             1988.0   \n",
       "7            -122.391198     1403  Subscriber             1980.0   \n",
       "8            -122.408915     3675  Subscriber             1987.0   \n",
       "9            -121.877349     1453  Subscriber             1994.0   \n",
       "\n",
       "  member_gender bike_share_for_all_trip  \n",
       "0          Male                      No  \n",
       "1           NaN                      No  \n",
       "2          Male                      No  \n",
       "3           NaN                      No  \n",
       "4          Male                      No  \n",
       "5           NaN                      No  \n",
       "6          Male                      No  \n",
       "7          Male                      No  \n",
       "8          Male                     Yes  \n",
       "9        Female                     Yes  "
      ]
     },
     "execution_count": 2,
     "metadata": {},
     "output_type": "execute_result"
    }
   ],
   "source": [
    "# read CSV file we downloaded\n",
    "df = pd.read_csv('201801-fordgobike-tripdata.csv')\n",
    "df.head(10)"
   ]
  },
  {
   "cell_type": "code",
   "execution_count": 3,
   "metadata": {},
   "outputs": [
    {
     "name": "stdout",
     "output_type": "stream",
     "text": [
      "<class 'pandas.core.frame.DataFrame'>\n",
      "RangeIndex: 94802 entries, 0 to 94801\n",
      "Data columns (total 16 columns):\n",
      "duration_sec               94802 non-null int64\n",
      "start_time                 94802 non-null object\n",
      "end_time                   94802 non-null object\n",
      "start_station_id           94802 non-null int64\n",
      "start_station_name         94802 non-null object\n",
      "start_station_latitude     94802 non-null float64\n",
      "start_station_longitude    94802 non-null float64\n",
      "end_station_id             94802 non-null int64\n",
      "end_station_name           94802 non-null object\n",
      "end_station_latitude       94802 non-null float64\n",
      "end_station_longitude      94802 non-null float64\n",
      "bike_id                    94802 non-null int64\n",
      "user_type                  94802 non-null object\n",
      "member_birth_year          86963 non-null float64\n",
      "member_gender              87001 non-null object\n",
      "bike_share_for_all_trip    94802 non-null object\n",
      "dtypes: float64(5), int64(4), object(7)\n",
      "memory usage: 11.6+ MB\n"
     ]
    }
   ],
   "source": [
    "df.info()"
   ]
  },
  {
   "cell_type": "code",
   "execution_count": 4,
   "metadata": {},
   "outputs": [
    {
     "data": {
      "text/html": [
       "<div>\n",
       "<style scoped>\n",
       "    .dataframe tbody tr th:only-of-type {\n",
       "        vertical-align: middle;\n",
       "    }\n",
       "\n",
       "    .dataframe tbody tr th {\n",
       "        vertical-align: top;\n",
       "    }\n",
       "\n",
       "    .dataframe thead th {\n",
       "        text-align: right;\n",
       "    }\n",
       "</style>\n",
       "<table border=\"1\" class=\"dataframe\">\n",
       "  <thead>\n",
       "    <tr style=\"text-align: right;\">\n",
       "      <th></th>\n",
       "      <th>duration_sec</th>\n",
       "      <th>start_station_id</th>\n",
       "      <th>start_station_latitude</th>\n",
       "      <th>start_station_longitude</th>\n",
       "      <th>end_station_id</th>\n",
       "      <th>end_station_latitude</th>\n",
       "      <th>end_station_longitude</th>\n",
       "      <th>bike_id</th>\n",
       "      <th>member_birth_year</th>\n",
       "    </tr>\n",
       "  </thead>\n",
       "  <tbody>\n",
       "    <tr>\n",
       "      <th>count</th>\n",
       "      <td>94802.000000</td>\n",
       "      <td>94802.000000</td>\n",
       "      <td>94802.000000</td>\n",
       "      <td>94802.000000</td>\n",
       "      <td>94802.00000</td>\n",
       "      <td>94802.000000</td>\n",
       "      <td>94802.000000</td>\n",
       "      <td>94802.000000</td>\n",
       "      <td>86963.000000</td>\n",
       "    </tr>\n",
       "    <tr>\n",
       "      <th>mean</th>\n",
       "      <td>870.935930</td>\n",
       "      <td>103.766302</td>\n",
       "      <td>37.773321</td>\n",
       "      <td>-122.361677</td>\n",
       "      <td>101.00982</td>\n",
       "      <td>37.773536</td>\n",
       "      <td>-122.360776</td>\n",
       "      <td>2048.751609</td>\n",
       "      <td>1980.932420</td>\n",
       "    </tr>\n",
       "    <tr>\n",
       "      <th>std</th>\n",
       "      <td>2550.596891</td>\n",
       "      <td>87.730464</td>\n",
       "      <td>0.085744</td>\n",
       "      <td>0.105253</td>\n",
       "      <td>86.77949</td>\n",
       "      <td>0.085552</td>\n",
       "      <td>0.104580</td>\n",
       "      <td>1091.507513</td>\n",
       "      <td>10.803017</td>\n",
       "    </tr>\n",
       "    <tr>\n",
       "      <th>min</th>\n",
       "      <td>61.000000</td>\n",
       "      <td>3.000000</td>\n",
       "      <td>37.317298</td>\n",
       "      <td>-122.444293</td>\n",
       "      <td>3.00000</td>\n",
       "      <td>37.317298</td>\n",
       "      <td>-122.444293</td>\n",
       "      <td>11.000000</td>\n",
       "      <td>1900.000000</td>\n",
       "    </tr>\n",
       "    <tr>\n",
       "      <th>25%</th>\n",
       "      <td>359.000000</td>\n",
       "      <td>30.000000</td>\n",
       "      <td>37.771662</td>\n",
       "      <td>-122.412408</td>\n",
       "      <td>27.00000</td>\n",
       "      <td>37.773063</td>\n",
       "      <td>-122.411306</td>\n",
       "      <td>1133.000000</td>\n",
       "      <td>1975.000000</td>\n",
       "    </tr>\n",
       "    <tr>\n",
       "      <th>50%</th>\n",
       "      <td>555.000000</td>\n",
       "      <td>79.000000</td>\n",
       "      <td>37.781270</td>\n",
       "      <td>-122.398773</td>\n",
       "      <td>76.00000</td>\n",
       "      <td>37.781752</td>\n",
       "      <td>-122.398436</td>\n",
       "      <td>2151.500000</td>\n",
       "      <td>1983.000000</td>\n",
       "    </tr>\n",
       "    <tr>\n",
       "      <th>75%</th>\n",
       "      <td>854.000000</td>\n",
       "      <td>160.000000</td>\n",
       "      <td>37.795392</td>\n",
       "      <td>-122.390428</td>\n",
       "      <td>157.00000</td>\n",
       "      <td>37.795392</td>\n",
       "      <td>-122.390428</td>\n",
       "      <td>3015.000000</td>\n",
       "      <td>1989.000000</td>\n",
       "    </tr>\n",
       "    <tr>\n",
       "      <th>max</th>\n",
       "      <td>85546.000000</td>\n",
       "      <td>342.000000</td>\n",
       "      <td>37.880222</td>\n",
       "      <td>-121.874119</td>\n",
       "      <td>342.00000</td>\n",
       "      <td>37.880222</td>\n",
       "      <td>-121.874119</td>\n",
       "      <td>3744.000000</td>\n",
       "      <td>2000.000000</td>\n",
       "    </tr>\n",
       "  </tbody>\n",
       "</table>\n",
       "</div>"
      ],
      "text/plain": [
       "       duration_sec  start_station_id  start_station_latitude  \\\n",
       "count  94802.000000      94802.000000            94802.000000   \n",
       "mean     870.935930        103.766302               37.773321   \n",
       "std     2550.596891         87.730464                0.085744   \n",
       "min       61.000000          3.000000               37.317298   \n",
       "25%      359.000000         30.000000               37.771662   \n",
       "50%      555.000000         79.000000               37.781270   \n",
       "75%      854.000000        160.000000               37.795392   \n",
       "max    85546.000000        342.000000               37.880222   \n",
       "\n",
       "       start_station_longitude  end_station_id  end_station_latitude  \\\n",
       "count             94802.000000     94802.00000          94802.000000   \n",
       "mean               -122.361677       101.00982             37.773536   \n",
       "std                   0.105253        86.77949              0.085552   \n",
       "min                -122.444293         3.00000             37.317298   \n",
       "25%                -122.412408        27.00000             37.773063   \n",
       "50%                -122.398773        76.00000             37.781752   \n",
       "75%                -122.390428       157.00000             37.795392   \n",
       "max                -121.874119       342.00000             37.880222   \n",
       "\n",
       "       end_station_longitude       bike_id  member_birth_year  \n",
       "count           94802.000000  94802.000000       86963.000000  \n",
       "mean             -122.360776   2048.751609        1980.932420  \n",
       "std                 0.104580   1091.507513          10.803017  \n",
       "min              -122.444293     11.000000        1900.000000  \n",
       "25%              -122.411306   1133.000000        1975.000000  \n",
       "50%              -122.398436   2151.500000        1983.000000  \n",
       "75%              -122.390428   3015.000000        1989.000000  \n",
       "max              -121.874119   3744.000000        2000.000000  "
      ]
     },
     "execution_count": 4,
     "metadata": {},
     "output_type": "execute_result"
    }
   ],
   "source": [
    "df.describe()"
   ]
  },
  {
   "cell_type": "code",
   "execution_count": 5,
   "metadata": {},
   "outputs": [
    {
     "data": {
      "text/plain": [
       "(94802, 16)"
      ]
     },
     "execution_count": 5,
     "metadata": {},
     "output_type": "execute_result"
    }
   ],
   "source": [
    "df.shape"
   ]
  },
  {
   "cell_type": "code",
   "execution_count": 6,
   "metadata": {},
   "outputs": [
    {
     "data": {
      "text/plain": [
       "0"
      ]
     },
     "execution_count": 6,
     "metadata": {},
     "output_type": "execute_result"
    }
   ],
   "source": [
    "# check for any duplicated value \n",
    "df.duplicated().sum()"
   ]
  },
  {
   "cell_type": "code",
   "execution_count": 7,
   "metadata": {},
   "outputs": [
    {
     "data": {
      "text/plain": [
       "duration_sec                  0\n",
       "start_time                    0\n",
       "end_time                      0\n",
       "start_station_id              0\n",
       "start_station_name            0\n",
       "start_station_latitude        0\n",
       "start_station_longitude       0\n",
       "end_station_id                0\n",
       "end_station_name              0\n",
       "end_station_latitude          0\n",
       "end_station_longitude         0\n",
       "bike_id                       0\n",
       "user_type                     0\n",
       "member_birth_year          7839\n",
       "member_gender              7801\n",
       "bike_share_for_all_trip       0\n",
       "dtype: int64"
      ]
     },
     "execution_count": 7,
     "metadata": {},
     "output_type": "execute_result"
    }
   ],
   "source": [
    "# check for any null value \n",
    "df.isna().sum()"
   ]
  },
  {
   "cell_type": "code",
   "execution_count": 8,
   "metadata": {},
   "outputs": [],
   "source": [
    "# take a copy of data to start to clean\n",
    "df_clean = df.copy()"
   ]
  },
  {
   "cell_type": "code",
   "execution_count": 9,
   "metadata": {},
   "outputs": [],
   "source": [
    "# remove all rows with null value of member_birth_year\n",
    "df_clean = df[df['member_birth_year'].isnull() == False]"
   ]
  },
  {
   "cell_type": "code",
   "execution_count": 10,
   "metadata": {},
   "outputs": [
    {
     "data": {
      "text/plain": [
       "duration_sec               0\n",
       "start_time                 0\n",
       "end_time                   0\n",
       "start_station_id           0\n",
       "start_station_name         0\n",
       "start_station_latitude     0\n",
       "start_station_longitude    0\n",
       "end_station_id             0\n",
       "end_station_name           0\n",
       "end_station_latitude       0\n",
       "end_station_longitude      0\n",
       "bike_id                    0\n",
       "user_type                  0\n",
       "member_birth_year          0\n",
       "member_gender              0\n",
       "bike_share_for_all_trip    0\n",
       "dtype: int64"
      ]
     },
     "execution_count": 10,
     "metadata": {},
     "output_type": "execute_result"
    }
   ],
   "source": [
    "# check for any null value \n",
    "df_clean.isna().sum()"
   ]
  },
  {
   "cell_type": "code",
   "execution_count": 11,
   "metadata": {},
   "outputs": [
    {
     "data": {
      "text/plain": [
       "0"
      ]
     },
     "execution_count": 11,
     "metadata": {},
     "output_type": "execute_result"
    }
   ],
   "source": [
    "df_clean.duplicated().sum()"
   ]
  },
  {
   "cell_type": "code",
   "execution_count": 12,
   "metadata": {},
   "outputs": [
    {
     "name": "stdout",
     "output_type": "stream",
     "text": [
      "<class 'pandas.core.frame.DataFrame'>\n",
      "Int64Index: 86963 entries, 0 to 94801\n",
      "Data columns (total 16 columns):\n",
      "duration_sec               86963 non-null int64\n",
      "start_time                 86963 non-null object\n",
      "end_time                   86963 non-null object\n",
      "start_station_id           86963 non-null int64\n",
      "start_station_name         86963 non-null object\n",
      "start_station_latitude     86963 non-null float64\n",
      "start_station_longitude    86963 non-null float64\n",
      "end_station_id             86963 non-null int64\n",
      "end_station_name           86963 non-null object\n",
      "end_station_latitude       86963 non-null float64\n",
      "end_station_longitude      86963 non-null float64\n",
      "bike_id                    86963 non-null int64\n",
      "user_type                  86963 non-null object\n",
      "member_birth_year          86963 non-null float64\n",
      "member_gender              86963 non-null object\n",
      "bike_share_for_all_trip    86963 non-null object\n",
      "dtypes: float64(5), int64(4), object(7)\n",
      "memory usage: 11.3+ MB\n"
     ]
    }
   ],
   "source": [
    "df_clean.info()"
   ]
  },
  {
   "cell_type": "code",
   "execution_count": 13,
   "metadata": {},
   "outputs": [
    {
     "name": "stderr",
     "output_type": "stream",
     "text": [
      "C:\\Users\\welco\\Anaconda3\\lib\\site-packages\\pandas\\core\\generic.py:5096: SettingWithCopyWarning: \n",
      "A value is trying to be set on a copy of a slice from a DataFrame.\n",
      "Try using .loc[row_indexer,col_indexer] = value instead\n",
      "\n",
      "See the caveats in the documentation: http://pandas.pydata.org/pandas-docs/stable/indexing.html#indexing-view-versus-copy\n",
      "  self[name] = value\n"
     ]
    }
   ],
   "source": [
    "# Change start_time and end_time to datetime format\n",
    "df_clean.start_time = pd.to_datetime(df_clean.start_time)\n",
    "df_clean.end_time = pd.to_datetime(df_clean.end_time)"
   ]
  },
  {
   "cell_type": "code",
   "execution_count": 14,
   "metadata": {},
   "outputs": [
    {
     "name": "stdout",
     "output_type": "stream",
     "text": [
      "<class 'pandas.core.frame.DataFrame'>\n",
      "Int64Index: 86963 entries, 0 to 94801\n",
      "Data columns (total 16 columns):\n",
      "duration_sec               86963 non-null int64\n",
      "start_time                 86963 non-null datetime64[ns]\n",
      "end_time                   86963 non-null datetime64[ns]\n",
      "start_station_id           86963 non-null int64\n",
      "start_station_name         86963 non-null object\n",
      "start_station_latitude     86963 non-null float64\n",
      "start_station_longitude    86963 non-null float64\n",
      "end_station_id             86963 non-null int64\n",
      "end_station_name           86963 non-null object\n",
      "end_station_latitude       86963 non-null float64\n",
      "end_station_longitude      86963 non-null float64\n",
      "bike_id                    86963 non-null int64\n",
      "user_type                  86963 non-null object\n",
      "member_birth_year          86963 non-null float64\n",
      "member_gender              86963 non-null object\n",
      "bike_share_for_all_trip    86963 non-null object\n",
      "dtypes: datetime64[ns](2), float64(5), int64(4), object(5)\n",
      "memory usage: 11.3+ MB\n"
     ]
    }
   ],
   "source": [
    "df_clean.info()"
   ]
  },
  {
   "cell_type": "code",
   "execution_count": 15,
   "metadata": {},
   "outputs": [],
   "source": [
    "# Change user_type, member_gender, and bike_share_for_all_trip to category format\n",
    "df_clean.user_type = df_clean.user_type.astype('category')\n",
    "df_clean.member_gender = df_clean.member_gender.astype('category')\n",
    "df_clean.bike_share_for_all_trip = df_clean.bike_share_for_all_trip.astype('category')"
   ]
  },
  {
   "cell_type": "code",
   "execution_count": 16,
   "metadata": {},
   "outputs": [
    {
     "name": "stdout",
     "output_type": "stream",
     "text": [
      "<class 'pandas.core.frame.DataFrame'>\n",
      "Int64Index: 86963 entries, 0 to 94801\n",
      "Data columns (total 16 columns):\n",
      "duration_sec               86963 non-null int64\n",
      "start_time                 86963 non-null datetime64[ns]\n",
      "end_time                   86963 non-null datetime64[ns]\n",
      "start_station_id           86963 non-null int64\n",
      "start_station_name         86963 non-null object\n",
      "start_station_latitude     86963 non-null float64\n",
      "start_station_longitude    86963 non-null float64\n",
      "end_station_id             86963 non-null int64\n",
      "end_station_name           86963 non-null object\n",
      "end_station_latitude       86963 non-null float64\n",
      "end_station_longitude      86963 non-null float64\n",
      "bike_id                    86963 non-null int64\n",
      "user_type                  86963 non-null category\n",
      "member_birth_year          86963 non-null float64\n",
      "member_gender              86963 non-null category\n",
      "bike_share_for_all_trip    86963 non-null category\n",
      "dtypes: category(3), datetime64[ns](2), float64(5), int64(4), object(2)\n",
      "memory usage: 9.5+ MB\n"
     ]
    }
   ],
   "source": [
    "df_clean.info()"
   ]
  },
  {
   "cell_type": "code",
   "execution_count": 17,
   "metadata": {},
   "outputs": [],
   "source": [
    "# Change bike_id, start_station_id, and end_station_id to object\n",
    "df_clean.bike_id = df_clean.bike_id.astype(str)\n",
    "df_clean.start_station_id = df_clean.start_station_id.astype(str)\n",
    "df_clean.end_station_id = df_clean.end_station_id.astype(str)"
   ]
  },
  {
   "cell_type": "code",
   "execution_count": 18,
   "metadata": {},
   "outputs": [
    {
     "name": "stdout",
     "output_type": "stream",
     "text": [
      "<class 'pandas.core.frame.DataFrame'>\n",
      "Int64Index: 86963 entries, 0 to 94801\n",
      "Data columns (total 16 columns):\n",
      "duration_sec               86963 non-null int64\n",
      "start_time                 86963 non-null datetime64[ns]\n",
      "end_time                   86963 non-null datetime64[ns]\n",
      "start_station_id           86963 non-null object\n",
      "start_station_name         86963 non-null object\n",
      "start_station_latitude     86963 non-null float64\n",
      "start_station_longitude    86963 non-null float64\n",
      "end_station_id             86963 non-null object\n",
      "end_station_name           86963 non-null object\n",
      "end_station_latitude       86963 non-null float64\n",
      "end_station_longitude      86963 non-null float64\n",
      "bike_id                    86963 non-null object\n",
      "user_type                  86963 non-null category\n",
      "member_birth_year          86963 non-null float64\n",
      "member_gender              86963 non-null category\n",
      "bike_share_for_all_trip    86963 non-null category\n",
      "dtypes: category(3), datetime64[ns](2), float64(5), int64(1), object(5)\n",
      "memory usage: 9.5+ MB\n"
     ]
    }
   ],
   "source": [
    "df_clean.info()"
   ]
  },
  {
   "cell_type": "code",
   "execution_count": 19,
   "metadata": {},
   "outputs": [
    {
     "name": "stderr",
     "output_type": "stream",
     "text": [
      "C:\\Users\\welco\\Anaconda3\\lib\\site-packages\\ipykernel_launcher.py:2: SettingWithCopyWarning: \n",
      "A value is trying to be set on a copy of a slice from a DataFrame.\n",
      "Try using .loc[row_indexer,col_indexer] = value instead\n",
      "\n",
      "See the caveats in the documentation: http://pandas.pydata.org/pandas-docs/stable/indexing.html#indexing-view-versus-copy\n",
      "  \n"
     ]
    }
   ],
   "source": [
    "# extract start time hour\n",
    "df_clean['start_time_hour']=df_clean['start_time'].dt.hour"
   ]
  },
  {
   "cell_type": "code",
   "execution_count": 20,
   "metadata": {},
   "outputs": [
    {
     "name": "stderr",
     "output_type": "stream",
     "text": [
      "C:\\Users\\welco\\Anaconda3\\lib\\site-packages\\ipykernel_launcher.py:2: SettingWithCopyWarning: \n",
      "A value is trying to be set on a copy of a slice from a DataFrame.\n",
      "Try using .loc[row_indexer,col_indexer] = value instead\n",
      "\n",
      "See the caveats in the documentation: http://pandas.pydata.org/pandas-docs/stable/indexing.html#indexing-view-versus-copy\n",
      "  \n"
     ]
    }
   ],
   "source": [
    "# extract start time day\n",
    "df_clean['start_time_day']=df_clean['start_time'].dt.day.astype(int)"
   ]
  },
  {
   "cell_type": "code",
   "execution_count": 21,
   "metadata": {},
   "outputs": [
    {
     "name": "stderr",
     "output_type": "stream",
     "text": [
      "C:\\Users\\welco\\Anaconda3\\lib\\site-packages\\ipykernel_launcher.py:2: SettingWithCopyWarning: \n",
      "A value is trying to be set on a copy of a slice from a DataFrame.\n",
      "Try using .loc[row_indexer,col_indexer] = value instead\n",
      "\n",
      "See the caveats in the documentation: http://pandas.pydata.org/pandas-docs/stable/indexing.html#indexing-view-versus-copy\n",
      "  \n"
     ]
    }
   ],
   "source": [
    "# extract start time weekdays\n",
    "df_clean['start_time_weekday']=df_clean['start_time'].dt.strftime('%a')"
   ]
  },
  {
   "cell_type": "code",
   "execution_count": 22,
   "metadata": {},
   "outputs": [
    {
     "name": "stderr",
     "output_type": "stream",
     "text": [
      "C:\\Users\\welco\\Anaconda3\\lib\\site-packages\\ipykernel_launcher.py:2: SettingWithCopyWarning: \n",
      "A value is trying to be set on a copy of a slice from a DataFrame.\n",
      "Try using .loc[row_indexer,col_indexer] = value instead\n",
      "\n",
      "See the caveats in the documentation: http://pandas.pydata.org/pandas-docs/stable/indexing.html#indexing-view-versus-copy\n",
      "  \n"
     ]
    }
   ],
   "source": [
    "# extract start time month name\n",
    "df_clean['start_time_month_name']=df_clean['start_time'].dt.strftime('%B')"
   ]
  },
  {
   "cell_type": "code",
   "execution_count": 23,
   "metadata": {},
   "outputs": [
    {
     "name": "stderr",
     "output_type": "stream",
     "text": [
      "C:\\Users\\welco\\Anaconda3\\lib\\site-packages\\ipykernel_launcher.py:2: SettingWithCopyWarning: \n",
      "A value is trying to be set on a copy of a slice from a DataFrame.\n",
      "Try using .loc[row_indexer,col_indexer] = value instead\n",
      "\n",
      "See the caveats in the documentation: http://pandas.pydata.org/pandas-docs/stable/indexing.html#indexing-view-versus-copy\n",
      "  \n"
     ]
    }
   ],
   "source": [
    "# extract start time month number\n",
    "df_clean['start_time_month']=df_clean['start_time'].dt.month.astype(int)"
   ]
  },
  {
   "cell_type": "code",
   "execution_count": 24,
   "metadata": {},
   "outputs": [
    {
     "data": {
      "text/html": [
       "<div>\n",
       "<style scoped>\n",
       "    .dataframe tbody tr th:only-of-type {\n",
       "        vertical-align: middle;\n",
       "    }\n",
       "\n",
       "    .dataframe tbody tr th {\n",
       "        vertical-align: top;\n",
       "    }\n",
       "\n",
       "    .dataframe thead th {\n",
       "        text-align: right;\n",
       "    }\n",
       "</style>\n",
       "<table border=\"1\" class=\"dataframe\">\n",
       "  <thead>\n",
       "    <tr style=\"text-align: right;\">\n",
       "      <th></th>\n",
       "      <th>duration_sec</th>\n",
       "      <th>start_time</th>\n",
       "      <th>end_time</th>\n",
       "      <th>start_station_id</th>\n",
       "      <th>start_station_name</th>\n",
       "      <th>start_station_latitude</th>\n",
       "      <th>start_station_longitude</th>\n",
       "      <th>end_station_id</th>\n",
       "      <th>end_station_name</th>\n",
       "      <th>end_station_latitude</th>\n",
       "      <th>...</th>\n",
       "      <th>bike_id</th>\n",
       "      <th>user_type</th>\n",
       "      <th>member_birth_year</th>\n",
       "      <th>member_gender</th>\n",
       "      <th>bike_share_for_all_trip</th>\n",
       "      <th>start_time_hour</th>\n",
       "      <th>start_time_day</th>\n",
       "      <th>start_time_weekday</th>\n",
       "      <th>start_time_month_name</th>\n",
       "      <th>start_time_month</th>\n",
       "    </tr>\n",
       "  </thead>\n",
       "  <tbody>\n",
       "    <tr>\n",
       "      <th>94792</th>\n",
       "      <td>1099</td>\n",
       "      <td>2018-01-01 00:20:47.360</td>\n",
       "      <td>2018-01-01 00:39:07.162</td>\n",
       "      <td>16</td>\n",
       "      <td>Steuart St at Market St</td>\n",
       "      <td>37.794130</td>\n",
       "      <td>-122.394430</td>\n",
       "      <td>93</td>\n",
       "      <td>4th St at Mission Bay Blvd S</td>\n",
       "      <td>37.770407</td>\n",
       "      <td>...</td>\n",
       "      <td>2670</td>\n",
       "      <td>Customer</td>\n",
       "      <td>1984.0</td>\n",
       "      <td>Female</td>\n",
       "      <td>No</td>\n",
       "      <td>0</td>\n",
       "      <td>1</td>\n",
       "      <td>Mon</td>\n",
       "      <td>January</td>\n",
       "      <td>1</td>\n",
       "    </tr>\n",
       "    <tr>\n",
       "      <th>94793</th>\n",
       "      <td>1359</td>\n",
       "      <td>2018-01-01 00:14:37.187</td>\n",
       "      <td>2018-01-01 00:37:16.445</td>\n",
       "      <td>11</td>\n",
       "      <td>Davis St at Jackson St</td>\n",
       "      <td>37.797280</td>\n",
       "      <td>-122.398436</td>\n",
       "      <td>323</td>\n",
       "      <td>Broadway at Kearny</td>\n",
       "      <td>37.798014</td>\n",
       "      <td>...</td>\n",
       "      <td>2173</td>\n",
       "      <td>Customer</td>\n",
       "      <td>1995.0</td>\n",
       "      <td>Male</td>\n",
       "      <td>No</td>\n",
       "      <td>0</td>\n",
       "      <td>1</td>\n",
       "      <td>Mon</td>\n",
       "      <td>January</td>\n",
       "      <td>1</td>\n",
       "    </tr>\n",
       "    <tr>\n",
       "      <th>94799</th>\n",
       "      <td>1151</td>\n",
       "      <td>2018-01-01 00:09:31.745</td>\n",
       "      <td>2018-01-01 00:28:43.159</td>\n",
       "      <td>97</td>\n",
       "      <td>14th St at Mission St</td>\n",
       "      <td>37.768265</td>\n",
       "      <td>-122.420110</td>\n",
       "      <td>125</td>\n",
       "      <td>20th St at Bryant St</td>\n",
       "      <td>37.759200</td>\n",
       "      <td>...</td>\n",
       "      <td>3455</td>\n",
       "      <td>Subscriber</td>\n",
       "      <td>1992.0</td>\n",
       "      <td>Male</td>\n",
       "      <td>No</td>\n",
       "      <td>0</td>\n",
       "      <td>1</td>\n",
       "      <td>Mon</td>\n",
       "      <td>January</td>\n",
       "      <td>1</td>\n",
       "    </tr>\n",
       "    <tr>\n",
       "      <th>94800</th>\n",
       "      <td>714</td>\n",
       "      <td>2018-01-01 00:07:52.943</td>\n",
       "      <td>2018-01-01 00:19:47.075</td>\n",
       "      <td>74</td>\n",
       "      <td>Laguna St at Hayes St</td>\n",
       "      <td>37.776435</td>\n",
       "      <td>-122.426244</td>\n",
       "      <td>70</td>\n",
       "      <td>Central Ave at Fell St</td>\n",
       "      <td>37.773311</td>\n",
       "      <td>...</td>\n",
       "      <td>2423</td>\n",
       "      <td>Subscriber</td>\n",
       "      <td>1986.0</td>\n",
       "      <td>Male</td>\n",
       "      <td>No</td>\n",
       "      <td>0</td>\n",
       "      <td>1</td>\n",
       "      <td>Mon</td>\n",
       "      <td>January</td>\n",
       "      <td>1</td>\n",
       "    </tr>\n",
       "    <tr>\n",
       "      <th>94801</th>\n",
       "      <td>145</td>\n",
       "      <td>2018-01-01 00:07:41.040</td>\n",
       "      <td>2018-01-01 00:10:06.241</td>\n",
       "      <td>316</td>\n",
       "      <td>San Salvador St at 1st St</td>\n",
       "      <td>37.330165</td>\n",
       "      <td>-121.885831</td>\n",
       "      <td>311</td>\n",
       "      <td>Paseo De San Antonio at 2nd St</td>\n",
       "      <td>37.333798</td>\n",
       "      <td>...</td>\n",
       "      <td>2473</td>\n",
       "      <td>Subscriber</td>\n",
       "      <td>1957.0</td>\n",
       "      <td>Male</td>\n",
       "      <td>No</td>\n",
       "      <td>0</td>\n",
       "      <td>1</td>\n",
       "      <td>Mon</td>\n",
       "      <td>January</td>\n",
       "      <td>1</td>\n",
       "    </tr>\n",
       "  </tbody>\n",
       "</table>\n",
       "<p>5 rows × 21 columns</p>\n",
       "</div>"
      ],
      "text/plain": [
       "       duration_sec              start_time                end_time  \\\n",
       "94792          1099 2018-01-01 00:20:47.360 2018-01-01 00:39:07.162   \n",
       "94793          1359 2018-01-01 00:14:37.187 2018-01-01 00:37:16.445   \n",
       "94799          1151 2018-01-01 00:09:31.745 2018-01-01 00:28:43.159   \n",
       "94800           714 2018-01-01 00:07:52.943 2018-01-01 00:19:47.075   \n",
       "94801           145 2018-01-01 00:07:41.040 2018-01-01 00:10:06.241   \n",
       "\n",
       "      start_station_id         start_station_name  start_station_latitude  \\\n",
       "94792               16    Steuart St at Market St               37.794130   \n",
       "94793               11     Davis St at Jackson St               37.797280   \n",
       "94799               97      14th St at Mission St               37.768265   \n",
       "94800               74      Laguna St at Hayes St               37.776435   \n",
       "94801              316  San Salvador St at 1st St               37.330165   \n",
       "\n",
       "       start_station_longitude end_station_id                end_station_name  \\\n",
       "94792              -122.394430             93    4th St at Mission Bay Blvd S   \n",
       "94793              -122.398436            323              Broadway at Kearny   \n",
       "94799              -122.420110            125            20th St at Bryant St   \n",
       "94800              -122.426244             70          Central Ave at Fell St   \n",
       "94801              -121.885831            311  Paseo De San Antonio at 2nd St   \n",
       "\n",
       "       end_station_latitude  ...  bike_id   user_type member_birth_year  \\\n",
       "94792             37.770407  ...     2670    Customer            1984.0   \n",
       "94793             37.798014  ...     2173    Customer            1995.0   \n",
       "94799             37.759200  ...     3455  Subscriber            1992.0   \n",
       "94800             37.773311  ...     2423  Subscriber            1986.0   \n",
       "94801             37.333798  ...     2473  Subscriber            1957.0   \n",
       "\n",
       "       member_gender bike_share_for_all_trip start_time_hour  start_time_day  \\\n",
       "94792         Female                      No               0               1   \n",
       "94793           Male                      No               0               1   \n",
       "94799           Male                      No               0               1   \n",
       "94800           Male                      No               0               1   \n",
       "94801           Male                      No               0               1   \n",
       "\n",
       "       start_time_weekday start_time_month_name start_time_month  \n",
       "94792                 Mon               January                1  \n",
       "94793                 Mon               January                1  \n",
       "94799                 Mon               January                1  \n",
       "94800                 Mon               January                1  \n",
       "94801                 Mon               January                1  \n",
       "\n",
       "[5 rows x 21 columns]"
      ]
     },
     "execution_count": 24,
     "metadata": {},
     "output_type": "execute_result"
    }
   ],
   "source": [
    "df_clean.tail()"
   ]
  },
  {
   "cell_type": "code",
   "execution_count": 25,
   "metadata": {},
   "outputs": [
    {
     "data": {
      "text/plain": [
       "duration_sec               0\n",
       "start_time                 0\n",
       "end_time                   0\n",
       "start_station_id           0\n",
       "start_station_name         0\n",
       "start_station_latitude     0\n",
       "start_station_longitude    0\n",
       "end_station_id             0\n",
       "end_station_name           0\n",
       "end_station_latitude       0\n",
       "end_station_longitude      0\n",
       "bike_id                    0\n",
       "user_type                  0\n",
       "member_birth_year          0\n",
       "member_gender              0\n",
       "bike_share_for_all_trip    0\n",
       "start_time_hour            0\n",
       "start_time_day             0\n",
       "start_time_weekday         0\n",
       "start_time_month_name      0\n",
       "start_time_month           0\n",
       "dtype: int64"
      ]
     },
     "execution_count": 25,
     "metadata": {},
     "output_type": "execute_result"
    }
   ],
   "source": [
    "# check for any null value \n",
    "df_clean.isna().sum()"
   ]
  },
  {
   "cell_type": "code",
   "execution_count": 26,
   "metadata": {},
   "outputs": [
    {
     "data": {
      "text/plain": [
       "0"
      ]
     },
     "execution_count": 26,
     "metadata": {},
     "output_type": "execute_result"
    }
   ],
   "source": [
    "# check for any duplicated value \n",
    "df_clean.duplicated().sum()"
   ]
  },
  {
   "cell_type": "code",
   "execution_count": 27,
   "metadata": {},
   "outputs": [
    {
     "name": "stdout",
     "output_type": "stream",
     "text": [
      "<class 'pandas.core.frame.DataFrame'>\n",
      "Int64Index: 86963 entries, 0 to 94801\n",
      "Data columns (total 21 columns):\n",
      "duration_sec               86963 non-null int64\n",
      "start_time                 86963 non-null datetime64[ns]\n",
      "end_time                   86963 non-null datetime64[ns]\n",
      "start_station_id           86963 non-null object\n",
      "start_station_name         86963 non-null object\n",
      "start_station_latitude     86963 non-null float64\n",
      "start_station_longitude    86963 non-null float64\n",
      "end_station_id             86963 non-null object\n",
      "end_station_name           86963 non-null object\n",
      "end_station_latitude       86963 non-null float64\n",
      "end_station_longitude      86963 non-null float64\n",
      "bike_id                    86963 non-null object\n",
      "user_type                  86963 non-null category\n",
      "member_birth_year          86963 non-null float64\n",
      "member_gender              86963 non-null category\n",
      "bike_share_for_all_trip    86963 non-null category\n",
      "start_time_hour            86963 non-null int64\n",
      "start_time_day             86963 non-null int32\n",
      "start_time_weekday         86963 non-null object\n",
      "start_time_month_name      86963 non-null object\n",
      "start_time_month           86963 non-null int32\n",
      "dtypes: category(3), datetime64[ns](2), float64(5), int32(2), int64(2), object(7)\n",
      "memory usage: 12.2+ MB\n"
     ]
    }
   ],
   "source": [
    "df_clean.info()"
   ]
  },
  {
   "cell_type": "code",
   "execution_count": 28,
   "metadata": {},
   "outputs": [
    {
     "data": {
      "text/plain": [
       "(86963, 21)"
      ]
     },
     "execution_count": 28,
     "metadata": {},
     "output_type": "execute_result"
    }
   ],
   "source": [
    "df_clean.shape"
   ]
  },
  {
   "cell_type": "code",
   "execution_count": 29,
   "metadata": {},
   "outputs": [],
   "source": [
    "# save cleaned data \n",
    "df_clean.to_csv('clean_file.csv', index=False)"
   ]
  },
  {
   "cell_type": "markdown",
   "metadata": {},
   "source": [
    "### What is the structure of your dataset?\n",
    "The dataset has around 85,000 rides in January 2018 & has information for each trip as list:\n",
    "- duration_sec               \n",
    "- start_time                 \n",
    "- end_time                      \n",
    "- bike_id                    \n",
    "- user_type                  \n",
    "- bike_share_for_all_trip    \n",
    "- start_time_hour            \n",
    "- start_time_day             \n",
    "- start_time_weekday         \n",
    "- start_time_month_name      \n",
    "- start_time_month           \n",
    "\n",
    "### What is/are the main feature(s) of interest in your dataset?\n",
    "- Member Gender & Age\n",
    "- rental time & duration \n",
    "\n",
    "### What features in the dataset do you think will help support your investigation into your feature(s) of interest?\n",
    "\n",
    "- start_station_id           \n",
    "- start_station_name         \n",
    "- start_station_latitude     \n",
    "- start_station_longitude    \n",
    "- end_station_id             \n",
    "- end_station_name           \n",
    "- end_station_latitude       \n",
    "- end_station_longitude  \n",
    "- member_birth_year          \n",
    "- member_gender              \n"
   ]
  },
  {
   "cell_type": "markdown",
   "metadata": {},
   "source": [
    "## Univariate Exploration\n",
    "\n",
    "> In this section, we will investigate distributions of individual variables. we will see the number of rental bike by weekday, date & hour. also, we will see the rental bike by duration of the trip"
   ]
  },
  {
   "cell_type": "code",
   "execution_count": 30,
   "metadata": {},
   "outputs": [
    {
     "data": {
      "image/png": "[encoded data removed]",
      "text/plain": [
       "<Figure size 360x360 with 1 Axes>"
      ]
     },
     "metadata": {
      "needs_background": "light"
     },
     "output_type": "display_data"
    }
   ],
   "source": [
    "# Ford GoBike system usage by weekday\n",
    "no_color = sb.color_palette()[0]\n",
    "month_graph = sb.catplot(data = df_clean, x = 'start_time_weekday', kind = 'count', color = no_color);\n",
    "month_graph.set_axis_labels('WeekDay', 'Number of Bike Trips'),\n",
    "month_graph.fig.suptitle('Ford GoBike Usage by WeekDay', y = 1.05, fontsize = 15, fontweight = 'semibold');"
   ]
  },
  {
   "cell_type": "markdown",
   "metadata": {},
   "source": [
    "> Note: mostly poeple using ford GoBike system on Wednesday & Tuesday. On other hand, On Sunday is lowest number of trips because of weekend. "
   ]
  },
  {
   "cell_type": "code",
   "execution_count": 31,
   "metadata": {},
   "outputs": [
    {
     "data": {
      "image/png": "[encoded data removed]",
      "text/plain": [
       "<Figure size 720x360 with 1 Axes>"
      ]
     },
     "metadata": {
      "needs_background": "light"
     },
     "output_type": "display_data"
    }
   ],
   "source": [
    "# Ford GoBike system usage by Date \n",
    "date_graph = sb.catplot(data = df_clean, x = 'start_time_day', kind = 'count', color = no_color, aspect = 2);\n",
    "date_graph.set_axis_labels('Date', 'Number of Bike Trips'),\n",
    "date_graph.fig.suptitle('Ford GoBike Usage in Jan 2018', y = 1.05, fontsize = 15, fontweight = 'semibold');"
   ]
  },
  {
   "cell_type": "markdown",
   "metadata": {},
   "source": [
    "> Note: we observe most of poeple using the ford GoBike system in the weekday starting from Tueday to Friday. on the other hand, few poeple using bike system in the weekend & first day of the week from Saturday to Monday."
   ]
  },
  {
   "cell_type": "code",
   "execution_count": 32,
   "metadata": {},
   "outputs": [
    {
     "data": {
      "image/png": "[encoded data removed]",
      "text/plain": [
       "<Figure size 720x360 with 1 Axes>"
      ]
     },
     "metadata": {
      "needs_background": "light"
     },
     "output_type": "display_data"
    }
   ],
   "source": [
    "# Ford GoBike system usage by Hour \n",
    "hour_graph = sb.catplot(data = df_clean, x = 'start_time_hour', kind = 'count', color = no_color, aspect = 2);\n",
    "hour_graph.set_axis_labels('Hour', 'Number of Bike Trips'),\n",
    "hour_graph.fig.suptitle('Ford GoBike Usage by Hour', y = 1.05, fontsize = 15, fontweight = 'semibold');"
   ]
  },
  {
   "cell_type": "markdown",
   "metadata": {},
   "source": [
    "> the first Peak time in the morning from 07:00 to 09:00 begining of school classes & working time of companies. the second peak time in the afternoon from 16:00 to 18:00 ending of school classes & working time of companies.  \n"
   ]
  },
  {
   "cell_type": "code",
   "execution_count": 33,
   "metadata": {},
   "outputs": [
    {
     "data": {
      "image/png": "[encoded data removed]",
      "text/plain": [
       "<Figure size 432x288 with 1 Axes>"
      ]
     },
     "metadata": {
      "needs_background": "light"
     },
     "output_type": "display_data"
    }
   ],
   "source": [
    "# Ford GoBike system usage by duration \n",
    "second_edges = np.arange(0, 2500,50)\n",
    "plt.hist(data = df_clean, x = 'duration_sec', bins = second_edges)\n",
    "plt.title(\"Ford GoBike Duration Usage by Seconds\")\n",
    "plt.xlabel('Duration in Seconds')\n",
    "plt.ylabel('Number of Bike Trips');"
   ]
  },
  {
   "cell_type": "markdown",
   "metadata": {},
   "source": [
    "> most of people using Ford GoBike for short period from 4 to 12 min (250 to 750 seconds)"
   ]
  },
  {
   "cell_type": "markdown",
   "metadata": {},
   "source": [
    "### Discuss the distribution(s) of your variable(s) of interest. Were there any unusual points? Did you need to perform any transformations?\n",
    "\n",
    "> after removing the rows without the birth date, the data became has NO Null value. we just chaged the type of variables and extract the date & time info from start_time column. \n",
    "\n",
    "### Of the features you investigated, were there any unusual distributions? Did you perform any operations on the data to tidy, adjust, or change the form of the data? If so, why did you do this?\n",
    "\n",
    "> I did not face any problem during operation on the data after cleaning."
   ]
  },
  {
   "cell_type": "markdown",
   "metadata": {},
   "source": [
    "## Bivariate Exploration\n",
    "\n",
    "> In this section, we will investigate relationships between pairs of variables in our\n",
    "data and we will see the number of rental bike by (weekday, date & hour) & user type. "
   ]
  },
  {
   "cell_type": "code",
   "execution_count": 34,
   "metadata": {},
   "outputs": [
    {
     "data": {
      "image/png": "[encoded data removed]",
      "text/plain": [
       "<Figure size 432x288 with 1 Axes>"
      ]
     },
     "metadata": {
      "needs_background": "light"
     },
     "output_type": "display_data"
    }
   ],
   "source": [
    "# Ford GoBike system usage by user type\n",
    "user_graph = sb.countplot(data = df_clean, x = 'user_type')\n",
    "plt.suptitle('Ford GoBike System (Customers & Subscribers)')\n",
    "user_graph.set_xlabel('User Type')\n",
    "user_graph.set_ylabel('Number of Bike Trips');"
   ]
  },
  {
   "cell_type": "markdown",
   "metadata": {},
   "source": [
    "> most of users are Subscriber "
   ]
  },
  {
   "cell_type": "code",
   "execution_count": 35,
   "metadata": {},
   "outputs": [
    {
     "data": {
      "image/png": "[encoded data removed]",
      "text/plain": [
       "<Figure size 720x360 with 2 Axes>"
      ]
     },
     "metadata": {
      "needs_background": "light"
     },
     "output_type": "display_data"
    }
   ],
   "source": [
    "# Ford GoBike system usage by weekday per user type\n",
    "day_user_ghraph = sb.catplot(data = df_clean, x = 'start_time_weekday', col = \"user_type\", kind ='count', sharey = False,\n",
    "            color = no_color)\n",
    "day_user_ghraph.set_axis_labels(\"WeekDay\", \"Number of Bike Trips\")\n",
    "day_user_ghraph.set_titles(\"{col_name}\")\n",
    "day_user_ghraph.fig.suptitle('Ford GoBike system usage by weekday per user type', y=1.1, fontsize=23, fontweight='semibold');"
   ]
  },
  {
   "cell_type": "markdown",
   "metadata": {},
   "source": [
    "> Customer users mostly using Bike system on Saturday & Subscriber users mostly using Bike system on Tuesday."
   ]
  },
  {
   "cell_type": "code",
   "execution_count": 36,
   "metadata": {},
   "outputs": [
    {
     "data": {
      "image/png": "[encoded data removed]",
      "text/plain": [
       "<Figure size 1440x360 with 2 Axes>"
      ]
     },
     "metadata": {
      "needs_background": "light"
     },
     "output_type": "display_data"
    }
   ],
   "source": [
    "# Ford GoBike system usage by Date per user type\n",
    "date_user_ghraph = sb.catplot(data = df_clean, x = 'start_time_day', col = \"user_type\", kind ='count', sharey = False,\n",
    "            color = no_color, aspect = 2)\n",
    "date_user_ghraph.set_axis_labels(\"Date\", \"Number of Bike Trips\")\n",
    "date_user_ghraph.set_titles(\"{col_name}\")\n",
    "date_user_ghraph.fig.suptitle('Ford GoBike system usage In Jan 2018 per user type', y=1.1, fontsize=23, fontweight='semibold');"
   ]
  },
  {
   "cell_type": "markdown",
   "metadata": {},
   "source": [
    "> Customer users using Bike system similarly during a month but Subscriber users using Bike system mostly during weekdays."
   ]
  },
  {
   "cell_type": "code",
   "execution_count": 37,
   "metadata": {},
   "outputs": [
    {
     "data": {
      "image/png": "[encoded data removed]",
      "text/plain": [
       "<Figure size 1440x360 with 2 Axes>"
      ]
     },
     "metadata": {
      "needs_background": "light"
     },
     "output_type": "display_data"
    }
   ],
   "source": [
    "# Ford GoBike system usage by Hour per user type\n",
    "hour_user_ghraph = sb.catplot(data = df_clean, x = 'start_time_hour', col = \"user_type\", kind ='count', sharey = False,\n",
    "            color = no_color, aspect = 2)\n",
    "hour_user_ghraph.set_axis_labels(\"Hour\", \"Number of Bike Trips\")\n",
    "hour_user_ghraph.set_titles(\"{col_name}\")\n",
    "hour_user_ghraph.fig.suptitle('Ford GoBike system usage by Hour per user type', y=1.1, fontsize=23, fontweight='semibold');"
   ]
  },
  {
   "cell_type": "markdown",
   "metadata": {},
   "source": [
    "> Customer users using Bike system similarly from 08:00 to 18:00 but Subscriber users using Bike system mostly on begining & ending of the day."
   ]
  },
  {
   "cell_type": "markdown",
   "metadata": {},
   "source": [
    "### Talk about some of the relationships you observed in this part of the investigation. How did the feature(s) of interest vary with other features in the dataset?\n",
    "\n",
    "> There are some points we observed as list:\n",
    "  - Most of users are Subscriber. \n",
    "  - Customer users mostly using Bike system on Saturday & Subscriber users mostly using Bike system on Tuesday.\n",
    "  - Customer users using Bike system similarly during a month but Subscriber users using Bike system mostly during weekdays.\n",
    "  \n",
    "\n",
    "### Did you observe any interesting relationships between the other features (not the main feature(s) of interest)?\n",
    "\n",
    "> Yes, we observe Customer users using Bike system similarly from 08:00 to 18:00 but Subscriber users using Bike system mostly on begining & ending of the day."
   ]
  },
  {
   "cell_type": "markdown",
   "metadata": {},
   "source": [
    "## Multivariate Exploration\n",
    "\n",
    "> we will create plots of three variables to investigate our data even\n",
    "further. we will see the number of rental bike by (weekday, date & hour), user type & user gender."
   ]
  },
  {
   "cell_type": "code",
   "execution_count": 38,
   "metadata": {},
   "outputs": [
    {
     "data": {
      "image/png": "[encoded data removed]",
      "text/plain": [
       "<Figure size 432x288 with 1 Axes>"
      ]
     },
     "metadata": {
      "needs_background": "light"
     },
     "output_type": "display_data"
    }
   ],
   "source": [
    "# Ford GoBike system usage by user Gender\n",
    "gender_graph = sb.countplot(data = df_clean, x = 'member_gender')\n",
    "plt.suptitle('Ford GoBike System by User Gender')\n",
    "gender_graph.set_xlabel('User Gender')\n",
    "gender_graph.set_ylabel('Number of Bike Trips');"
   ]
  },
  {
   "cell_type": "markdown",
   "metadata": {},
   "source": [
    "> we observed that most user of GoBike system are male gender."
   ]
  },
  {
   "cell_type": "code",
   "execution_count": 39,
   "metadata": {},
   "outputs": [
    {
     "data": {
      "image/png": "[encoded data removed]",
      "text/plain": [
       "<Figure size 810.375x360 with 2 Axes>"
      ]
     },
     "metadata": {
      "needs_background": "light"
     },
     "output_type": "display_data"
    }
   ],
   "source": [
    "# Ford GoBike system usage by weekday per user type & gender\n",
    "day_gender_user_ghraph = sb.catplot(data = df_clean, x = 'start_time_weekday', col = \"user_type\", hue='member_gender', kind ='count', sharey = False)\n",
    "day_gender_user_ghraph.set_axis_labels(\"WeekDay\", \"Number of Bike Trips\")\n",
    "day_gender_user_ghraph.set_titles(\"{col_name}\")\n",
    "day_gender_user_ghraph.fig.suptitle('Ford GoBike system usage by weekday per user type & gender', y=1.1, fontsize=23, fontweight='semibold')\n",
    "day_gender_user_ghraph._legend.set_title('Gender');"
   ]
  },
  {
   "cell_type": "markdown",
   "metadata": {},
   "source": [
    "> The number customer Female users is more than subscriber Female users during weekdays."
   ]
  },
  {
   "cell_type": "code",
   "execution_count": 40,
   "metadata": {},
   "outputs": [
    {
     "data": {
      "image/png": "[encoded data removed]",
      "text/plain": [
       "<Figure size 1170.38x360 with 2 Axes>"
      ]
     },
     "metadata": {
      "needs_background": "light"
     },
     "output_type": "display_data"
    }
   ],
   "source": [
    "# Ford GoBike system usage by Date per user type & gender\n",
    "date_gender_user_ghraph = sb.catplot(data = df_clean, x = 'start_time_day', col = \"user_type\", hue='member_gender', kind ='count', sharey = False, aspect = 1.5)\n",
    "date_gender_user_ghraph.set_axis_labels(\"Date\", \"Number of Bike Trips\")\n",
    "date_gender_user_ghraph.set_titles(\"{col_name}\")\n",
    "date_gender_user_ghraph.fig.suptitle('Ford GoBike system usage In Jan 2018 per user type & gender', y=1.1, fontsize=23, fontweight='semibold')\n",
    "date_gender_user_ghraph._legend.set_title('Gender');"
   ]
  },
  {
   "cell_type": "markdown",
   "metadata": {},
   "source": [
    ">The number subscriber male users is more than customer male users during January 2018.\n",
    "On other hand, The number customer female users is more than  subscriber female users during January 2018.\n",
    "number of Other gender users are very low in both customer & subscriber users during January 2018."
   ]
  },
  {
   "cell_type": "code",
   "execution_count": 41,
   "metadata": {},
   "outputs": [
    {
     "data": {
      "image/png": "[encoded data removed]",
      "text/plain": [
       "<Figure size 1170.38x360 with 2 Axes>"
      ]
     },
     "metadata": {
      "needs_background": "light"
     },
     "output_type": "display_data"
    }
   ],
   "source": [
    "# Ford GoBike system usage by Hour per user type & gender\n",
    "hour_gender_user_ghraph = sb.catplot(data = df_clean, x = 'start_time_hour', col = \"user_type\", hue='member_gender', kind ='count', sharey = False, aspect = 1.5)\n",
    "hour_gender_user_ghraph.set_axis_labels(\"Hour\", \"Number of Bike Trips\")\n",
    "hour_gender_user_ghraph.set_titles(\"{col_name}\")\n",
    "hour_gender_user_ghraph.fig.suptitle('Ford GoBike system usage by Hour per user type & Gender', y=1.1, fontsize=23, fontweight='semibold')\n",
    "hour_gender_user_ghraph._legend.set_title('Gender');"
   ]
  },
  {
   "cell_type": "markdown",
   "metadata": {},
   "source": [
    "> The peak time for customer male user from 08:00 to 18:00 but for subscriber male user from 08:00 to 09:00 & from 17:00 to 18:00"
   ]
  },
  {
   "cell_type": "markdown",
   "metadata": {},
   "source": [
    "### Talk about some of the relationships you observed in this part of the investigation. Were there features that strengthened each other in terms of looking at your feature(s) of interest?\n",
    "\n",
    "> There are some points we observe as list:\n",
    "  - we observed that most user of GoBike system are male gender.\n",
    "  - The number customer Female users is more than subscriber Female users during weekdays.\n",
    "  - The number subscriber male users is more than customer male users during January 2018. On other hand, The number customer female users is more than subscriber female users during January 2018. number of Other gender users are very low in both customer & subscriber users during January 2018.\n",
    "  \n",
    "### Were there any interesting or surprising interactions between features?\n",
    "\n",
    "> The peak time for customer male user from 08:00 to 18:00 but for subscriber male user from 08:00 to 09:00 & from 17:00 to 18:00"
   ]
  }
 ],
 "metadata": {
  "kernelspec": {
   "display_name": "Python 3",
   "language": "python",
   "name": "python3"
  },
  "language_info": {
   "codemirror_mode": {
    "name": "ipython",
    "version": 3
   },
   "file_extension": ".py",
   "mimetype": "text/x-python",
   "name": "python",
   "nbconvert_exporter": "python",
   "pygments_lexer": "ipython3",
   "version": "3.7.3"
  }
 },
 "nbformat": 4,
 "nbformat_minor": 2
}
