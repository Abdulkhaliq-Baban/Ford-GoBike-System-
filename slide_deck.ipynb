{
 "cells": [
  {
   "cell_type": "markdown",
   "metadata": {
    "slideshow": {
     "slide_type": "slide"
    }
   },
   "source": [
    "# (Ford GoBike System Data in Jan 2018)\n",
    "## by (Abdulkhaliq G. Baban)"
   ]
  },
  {
   "cell_type": "markdown",
   "metadata": {
    "slideshow": {
     "slide_type": "slide"
    }
   },
   "source": [
    "## Investigation Overview\n",
    "\n",
    "> In this investigation, we want to have a look on user type usage of usage GoBike system based on time (weekday, date, hour) & gender.\n",
    "\n",
    "## Dataset Overview\n",
    "\n",
    "> This document is exploring & visualizing the trips of Ford GoBike system data for public containing around 85,000 rides in  Jan 2018."
   ]
  },
  {
   "cell_type": "code",
   "execution_count": 1,
   "metadata": {
    "slideshow": {
     "slide_type": "skip"
    }
   },
   "outputs": [],
   "source": [
    "# import all packages and set plots to be embedded inline\n",
    "import numpy as np\n",
    "import pandas as pd\n",
    "import matplotlib.pyplot as plt\n",
    "import seaborn as sb\n",
    "\n",
    "%matplotlib inline\n",
    "\n",
    "# suppress warnings from final output\n",
    "import warnings\n",
    "warnings.simplefilter(\"ignore\")"
   ]
  },
  {
   "cell_type": "code",
   "execution_count": 2,
   "metadata": {
    "slideshow": {
     "slide_type": "skip"
    }
   },
   "outputs": [
    {
     "data": {
      "text/html": [
       "<div>\n",
       "<style scoped>\n",
       "    .dataframe tbody tr th:only-of-type {\n",
       "        vertical-align: middle;\n",
       "    }\n",
       "\n",
       "    .dataframe tbody tr th {\n",
       "        vertical-align: top;\n",
       "    }\n",
       "\n",
       "    .dataframe thead th {\n",
       "        text-align: right;\n",
       "    }\n",
       "</style>\n",
       "<table border=\"1\" class=\"dataframe\">\n",
       "  <thead>\n",
       "    <tr style=\"text-align: right;\">\n",
       "      <th></th>\n",
       "      <th>duration_sec</th>\n",
       "      <th>start_time</th>\n",
       "      <th>end_time</th>\n",
       "      <th>start_station_id</th>\n",
       "      <th>start_station_name</th>\n",
       "      <th>start_station_latitude</th>\n",
       "      <th>start_station_longitude</th>\n",
       "      <th>end_station_id</th>\n",
       "      <th>end_station_name</th>\n",
       "      <th>end_station_latitude</th>\n",
       "      <th>...</th>\n",
       "      <th>bike_id</th>\n",
       "      <th>user_type</th>\n",
       "      <th>member_birth_year</th>\n",
       "      <th>member_gender</th>\n",
       "      <th>bike_share_for_all_trip</th>\n",
       "      <th>start_time_hour</th>\n",
       "      <th>start_time_day</th>\n",
       "      <th>start_time_weekday</th>\n",
       "      <th>start_time_month_name</th>\n",
       "      <th>start_time_month</th>\n",
       "    </tr>\n",
       "  </thead>\n",
       "  <tbody>\n",
       "    <tr>\n",
       "      <th>0</th>\n",
       "      <td>75284</td>\n",
       "      <td>2018-01-31 22:52:35.239</td>\n",
       "      <td>2018-02-01 19:47:19.824</td>\n",
       "      <td>120</td>\n",
       "      <td>Mission Dolores Park</td>\n",
       "      <td>37.761420</td>\n",
       "      <td>-122.426435</td>\n",
       "      <td>285</td>\n",
       "      <td>Webster St at O'Farrell St</td>\n",
       "      <td>37.783521</td>\n",
       "      <td>...</td>\n",
       "      <td>2765</td>\n",
       "      <td>Subscriber</td>\n",
       "      <td>1986.0</td>\n",
       "      <td>Male</td>\n",
       "      <td>No</td>\n",
       "      <td>22</td>\n",
       "      <td>31</td>\n",
       "      <td>Wed</td>\n",
       "      <td>January</td>\n",
       "      <td>1</td>\n",
       "    </tr>\n",
       "    <tr>\n",
       "      <th>1</th>\n",
       "      <td>71576</td>\n",
       "      <td>2018-01-31 14:23:55.889</td>\n",
       "      <td>2018-02-01 10:16:52.116</td>\n",
       "      <td>304</td>\n",
       "      <td>Jackson St at 5th St</td>\n",
       "      <td>37.348759</td>\n",
       "      <td>-121.894798</td>\n",
       "      <td>296</td>\n",
       "      <td>5th St at Virginia St</td>\n",
       "      <td>37.325998</td>\n",
       "      <td>...</td>\n",
       "      <td>3039</td>\n",
       "      <td>Customer</td>\n",
       "      <td>1996.0</td>\n",
       "      <td>Male</td>\n",
       "      <td>No</td>\n",
       "      <td>14</td>\n",
       "      <td>31</td>\n",
       "      <td>Wed</td>\n",
       "      <td>January</td>\n",
       "      <td>1</td>\n",
       "    </tr>\n",
       "    <tr>\n",
       "      <th>2</th>\n",
       "      <td>39966</td>\n",
       "      <td>2018-01-31 19:52:24.667</td>\n",
       "      <td>2018-02-01 06:58:31.053</td>\n",
       "      <td>74</td>\n",
       "      <td>Laguna St at Hayes St</td>\n",
       "      <td>37.776435</td>\n",
       "      <td>-122.426244</td>\n",
       "      <td>19</td>\n",
       "      <td>Post St at Kearny St</td>\n",
       "      <td>37.788975</td>\n",
       "      <td>...</td>\n",
       "      <td>617</td>\n",
       "      <td>Subscriber</td>\n",
       "      <td>1991.0</td>\n",
       "      <td>Male</td>\n",
       "      <td>No</td>\n",
       "      <td>19</td>\n",
       "      <td>31</td>\n",
       "      <td>Wed</td>\n",
       "      <td>January</td>\n",
       "      <td>1</td>\n",
       "    </tr>\n",
       "    <tr>\n",
       "      <th>3</th>\n",
       "      <td>453</td>\n",
       "      <td>2018-01-31 23:53:53.632</td>\n",
       "      <td>2018-02-01 00:01:26.805</td>\n",
       "      <td>110</td>\n",
       "      <td>17th &amp; Folsom Street Park (17th St at Folsom St)</td>\n",
       "      <td>37.763708</td>\n",
       "      <td>-122.415204</td>\n",
       "      <td>134</td>\n",
       "      <td>Valencia St at 24th St</td>\n",
       "      <td>37.752428</td>\n",
       "      <td>...</td>\n",
       "      <td>3571</td>\n",
       "      <td>Subscriber</td>\n",
       "      <td>1988.0</td>\n",
       "      <td>Male</td>\n",
       "      <td>No</td>\n",
       "      <td>23</td>\n",
       "      <td>31</td>\n",
       "      <td>Wed</td>\n",
       "      <td>January</td>\n",
       "      <td>1</td>\n",
       "    </tr>\n",
       "    <tr>\n",
       "      <th>4</th>\n",
       "      <td>180</td>\n",
       "      <td>2018-01-31 23:52:09.903</td>\n",
       "      <td>2018-01-31 23:55:10.807</td>\n",
       "      <td>81</td>\n",
       "      <td>Berry St at 4th St</td>\n",
       "      <td>37.775880</td>\n",
       "      <td>-122.393170</td>\n",
       "      <td>93</td>\n",
       "      <td>4th St at Mission Bay Blvd S</td>\n",
       "      <td>37.770407</td>\n",
       "      <td>...</td>\n",
       "      <td>1403</td>\n",
       "      <td>Subscriber</td>\n",
       "      <td>1980.0</td>\n",
       "      <td>Male</td>\n",
       "      <td>No</td>\n",
       "      <td>23</td>\n",
       "      <td>31</td>\n",
       "      <td>Wed</td>\n",
       "      <td>January</td>\n",
       "      <td>1</td>\n",
       "    </tr>\n",
       "    <tr>\n",
       "      <th>5</th>\n",
       "      <td>996</td>\n",
       "      <td>2018-01-31 23:34:56.004</td>\n",
       "      <td>2018-01-31 23:51:32.674</td>\n",
       "      <td>134</td>\n",
       "      <td>Valencia St at 24th St</td>\n",
       "      <td>37.752428</td>\n",
       "      <td>-122.420628</td>\n",
       "      <td>4</td>\n",
       "      <td>Cyril Magnin St at Ellis St</td>\n",
       "      <td>37.785881</td>\n",
       "      <td>...</td>\n",
       "      <td>3675</td>\n",
       "      <td>Subscriber</td>\n",
       "      <td>1987.0</td>\n",
       "      <td>Male</td>\n",
       "      <td>Yes</td>\n",
       "      <td>23</td>\n",
       "      <td>31</td>\n",
       "      <td>Wed</td>\n",
       "      <td>January</td>\n",
       "      <td>1</td>\n",
       "    </tr>\n",
       "    <tr>\n",
       "      <th>6</th>\n",
       "      <td>825</td>\n",
       "      <td>2018-01-31 23:34:14.027</td>\n",
       "      <td>2018-01-31 23:47:59.809</td>\n",
       "      <td>305</td>\n",
       "      <td>Ryland Park</td>\n",
       "      <td>37.342725</td>\n",
       "      <td>-121.895617</td>\n",
       "      <td>317</td>\n",
       "      <td>San Salvador St at 9th St</td>\n",
       "      <td>37.333955</td>\n",
       "      <td>...</td>\n",
       "      <td>1453</td>\n",
       "      <td>Subscriber</td>\n",
       "      <td>1994.0</td>\n",
       "      <td>Female</td>\n",
       "      <td>Yes</td>\n",
       "      <td>23</td>\n",
       "      <td>31</td>\n",
       "      <td>Wed</td>\n",
       "      <td>January</td>\n",
       "      <td>1</td>\n",
       "    </tr>\n",
       "    <tr>\n",
       "      <th>7</th>\n",
       "      <td>432</td>\n",
       "      <td>2018-01-31 23:34:26.484</td>\n",
       "      <td>2018-01-31 23:41:39.297</td>\n",
       "      <td>89</td>\n",
       "      <td>Division St at Potrero Ave</td>\n",
       "      <td>37.769218</td>\n",
       "      <td>-122.407646</td>\n",
       "      <td>43</td>\n",
       "      <td>San Francisco Public Library (Grove St at Hyde...</td>\n",
       "      <td>37.778768</td>\n",
       "      <td>...</td>\n",
       "      <td>2928</td>\n",
       "      <td>Subscriber</td>\n",
       "      <td>1993.0</td>\n",
       "      <td>Male</td>\n",
       "      <td>No</td>\n",
       "      <td>23</td>\n",
       "      <td>31</td>\n",
       "      <td>Wed</td>\n",
       "      <td>January</td>\n",
       "      <td>1</td>\n",
       "    </tr>\n",
       "    <tr>\n",
       "      <th>8</th>\n",
       "      <td>601</td>\n",
       "      <td>2018-01-31 23:29:46.832</td>\n",
       "      <td>2018-01-31 23:39:48.000</td>\n",
       "      <td>223</td>\n",
       "      <td>16th St Mission BART Station 2</td>\n",
       "      <td>37.764765</td>\n",
       "      <td>-122.420091</td>\n",
       "      <td>86</td>\n",
       "      <td>Market St at Dolores St</td>\n",
       "      <td>37.769305</td>\n",
       "      <td>...</td>\n",
       "      <td>3016</td>\n",
       "      <td>Subscriber</td>\n",
       "      <td>1957.0</td>\n",
       "      <td>Male</td>\n",
       "      <td>No</td>\n",
       "      <td>23</td>\n",
       "      <td>31</td>\n",
       "      <td>Wed</td>\n",
       "      <td>January</td>\n",
       "      <td>1</td>\n",
       "    </tr>\n",
       "    <tr>\n",
       "      <th>9</th>\n",
       "      <td>887</td>\n",
       "      <td>2018-01-31 23:24:16.357</td>\n",
       "      <td>2018-01-31 23:39:04.123</td>\n",
       "      <td>308</td>\n",
       "      <td>San Pedro Square</td>\n",
       "      <td>37.336802</td>\n",
       "      <td>-121.894090</td>\n",
       "      <td>297</td>\n",
       "      <td>Locust St at Grant St</td>\n",
       "      <td>37.322980</td>\n",
       "      <td>...</td>\n",
       "      <td>55</td>\n",
       "      <td>Subscriber</td>\n",
       "      <td>1976.0</td>\n",
       "      <td>Female</td>\n",
       "      <td>Yes</td>\n",
       "      <td>23</td>\n",
       "      <td>31</td>\n",
       "      <td>Wed</td>\n",
       "      <td>January</td>\n",
       "      <td>1</td>\n",
       "    </tr>\n",
       "  </tbody>\n",
       "</table>\n",
       "<p>10 rows × 21 columns</p>\n",
       "</div>"
      ],
      "text/plain": [
       "   duration_sec               start_time                 end_time  \\\n",
       "0         75284  2018-01-31 22:52:35.239  2018-02-01 19:47:19.824   \n",
       "1         71576  2018-01-31 14:23:55.889  2018-02-01 10:16:52.116   \n",
       "2         39966  2018-01-31 19:52:24.667  2018-02-01 06:58:31.053   \n",
       "3           453  2018-01-31 23:53:53.632  2018-02-01 00:01:26.805   \n",
       "4           180  2018-01-31 23:52:09.903  2018-01-31 23:55:10.807   \n",
       "5           996  2018-01-31 23:34:56.004  2018-01-31 23:51:32.674   \n",
       "6           825  2018-01-31 23:34:14.027  2018-01-31 23:47:59.809   \n",
       "7           432  2018-01-31 23:34:26.484  2018-01-31 23:41:39.297   \n",
       "8           601  2018-01-31 23:29:46.832  2018-01-31 23:39:48.000   \n",
       "9           887  2018-01-31 23:24:16.357  2018-01-31 23:39:04.123   \n",
       "\n",
       "   start_station_id                                start_station_name  \\\n",
       "0               120                              Mission Dolores Park   \n",
       "1               304                              Jackson St at 5th St   \n",
       "2                74                             Laguna St at Hayes St   \n",
       "3               110  17th & Folsom Street Park (17th St at Folsom St)   \n",
       "4                81                                Berry St at 4th St   \n",
       "5               134                            Valencia St at 24th St   \n",
       "6               305                                       Ryland Park   \n",
       "7                89                        Division St at Potrero Ave   \n",
       "8               223                    16th St Mission BART Station 2   \n",
       "9               308                                  San Pedro Square   \n",
       "\n",
       "   start_station_latitude  start_station_longitude  end_station_id  \\\n",
       "0               37.761420              -122.426435             285   \n",
       "1               37.348759              -121.894798             296   \n",
       "2               37.776435              -122.426244              19   \n",
       "3               37.763708              -122.415204             134   \n",
       "4               37.775880              -122.393170              93   \n",
       "5               37.752428              -122.420628               4   \n",
       "6               37.342725              -121.895617             317   \n",
       "7               37.769218              -122.407646              43   \n",
       "8               37.764765              -122.420091              86   \n",
       "9               37.336802              -121.894090             297   \n",
       "\n",
       "                                    end_station_name  end_station_latitude  \\\n",
       "0                         Webster St at O'Farrell St             37.783521   \n",
       "1                              5th St at Virginia St             37.325998   \n",
       "2                               Post St at Kearny St             37.788975   \n",
       "3                             Valencia St at 24th St             37.752428   \n",
       "4                       4th St at Mission Bay Blvd S             37.770407   \n",
       "5                        Cyril Magnin St at Ellis St             37.785881   \n",
       "6                          San Salvador St at 9th St             37.333955   \n",
       "7  San Francisco Public Library (Grove St at Hyde...             37.778768   \n",
       "8                            Market St at Dolores St             37.769305   \n",
       "9                              Locust St at Grant St             37.322980   \n",
       "\n",
       "   ...  bike_id   user_type member_birth_year  member_gender  \\\n",
       "0  ...     2765  Subscriber            1986.0           Male   \n",
       "1  ...     3039    Customer            1996.0           Male   \n",
       "2  ...      617  Subscriber            1991.0           Male   \n",
       "3  ...     3571  Subscriber            1988.0           Male   \n",
       "4  ...     1403  Subscriber            1980.0           Male   \n",
       "5  ...     3675  Subscriber            1987.0           Male   \n",
       "6  ...     1453  Subscriber            1994.0         Female   \n",
       "7  ...     2928  Subscriber            1993.0           Male   \n",
       "8  ...     3016  Subscriber            1957.0           Male   \n",
       "9  ...       55  Subscriber            1976.0         Female   \n",
       "\n",
       "  bike_share_for_all_trip start_time_hour  start_time_day  start_time_weekday  \\\n",
       "0                      No              22              31                 Wed   \n",
       "1                      No              14              31                 Wed   \n",
       "2                      No              19              31                 Wed   \n",
       "3                      No              23              31                 Wed   \n",
       "4                      No              23              31                 Wed   \n",
       "5                     Yes              23              31                 Wed   \n",
       "6                     Yes              23              31                 Wed   \n",
       "7                      No              23              31                 Wed   \n",
       "8                      No              23              31                 Wed   \n",
       "9                     Yes              23              31                 Wed   \n",
       "\n",
       "  start_time_month_name start_time_month  \n",
       "0               January                1  \n",
       "1               January                1  \n",
       "2               January                1  \n",
       "3               January                1  \n",
       "4               January                1  \n",
       "5               January                1  \n",
       "6               January                1  \n",
       "7               January                1  \n",
       "8               January                1  \n",
       "9               January                1  \n",
       "\n",
       "[10 rows x 21 columns]"
      ]
     },
     "execution_count": 2,
     "metadata": {},
     "output_type": "execute_result"
    }
   ],
   "source": [
    "# load in the dataset into a pandas dataframe\n",
    "# read CSV file we downloaded\n",
    "df_clean = pd.read_csv('clean_file.csv')\n",
    "df_clean.head(10)"
   ]
  },
  {
   "cell_type": "markdown",
   "metadata": {
    "slideshow": {
     "slide_type": "slide"
    }
   },
   "source": [
    "## (Ford GoBike system usage by Weekday)\n",
    "\n",
    "> mostly poeple using ford GoBike system on Wednesday & Tuesday. On other hand, On Sunday is lowest number of trips because of weekend. "
   ]
  },
  {
   "cell_type": "code",
   "execution_count": 3,
   "metadata": {
    "slideshow": {
     "slide_type": "subslide"
    }
   },
   "outputs": [
    {
     "data": {
      "image/png": "[encoded data removed]",
      "text/plain": [
       "<Figure size 360x360 with 1 Axes>"
      ]
     },
     "metadata": {
      "needs_background": "light"
     },
     "output_type": "display_data"
    }
   ],
   "source": [
    "# Ford GoBike system usage by weekday\n",
    "no_color = sb.color_palette()[0]\n",
    "month_graph = sb.catplot(data = df_clean, x = 'start_time_weekday', kind = 'count', color = no_color);\n",
    "month_graph.set_axis_labels('WeekDay', 'Number of Bike Trips'),\n",
    "month_graph.fig.suptitle('Ford GoBike Usage by WeekDay', y = 1.05, fontsize = 15, fontweight = 'semibold');"
   ]
  },
  {
   "cell_type": "markdown",
   "metadata": {
    "collapsed": true,
    "slideshow": {
     "slide_type": "slide"
    }
   },
   "source": [
    "## (Ford GoBike system usage by Hour)\n",
    "\n",
    "> the first Peak time in the morning from 07:00 to 09:00 begining of school classes & working time of companies. the second peak time in the afternoon from 16:00 to 18:00 ending of school classes & working time of companies. "
   ]
  },
  {
   "cell_type": "code",
   "execution_count": 4,
   "metadata": {
    "slideshow": {
     "slide_type": "subslide"
    }
   },
   "outputs": [
    {
     "data": {
      "image/png": "[encoded data removed]",
      "text/plain": [
       "<Figure size 720x360 with 1 Axes>"
      ]
     },
     "metadata": {
      "needs_background": "light"
     },
     "output_type": "display_data"
    }
   ],
   "source": [
    "# Ford GoBike system usage by Hour \n",
    "hour_graph = sb.catplot(data = df_clean, x = 'start_time_hour', kind = 'count', color = no_color, aspect = 2);\n",
    "hour_graph.set_axis_labels('Hour', 'Number of Bike Trips'),\n",
    "hour_graph.fig.suptitle('Ford GoBike Usage by Hour', y = 1.05, fontsize = 15, fontweight = 'semibold');"
   ]
  },
  {
   "cell_type": "markdown",
   "metadata": {
    "slideshow": {
     "slide_type": "slide"
    }
   },
   "source": [
    "## (Ford GoBike system usage by Hour per user type)\n",
    "\n",
    "> Customer users using Bike system similarly from 08:00 to 18:00 but Subscriber users using Bike system mostly on begining & ending of the day."
   ]
  },
  {
   "cell_type": "code",
   "execution_count": 5,
   "metadata": {
    "slideshow": {
     "slide_type": "subslide"
    }
   },
   "outputs": [
    {
     "data": {
      "image/png": "[encoded data removed]",
      "text/plain": [
       "<Figure size 1440x360 with 2 Axes>"
      ]
     },
     "metadata": {
      "needs_background": "light"
     },
     "output_type": "display_data"
    }
   ],
   "source": [
    "# Ford GoBike system usage by Hour per user type\n",
    "hour_user_ghraph = sb.catplot(data = df_clean, x = 'start_time_hour', col = \"user_type\", kind ='count', sharey = False,\n",
    "            color = no_color, aspect = 2)\n",
    "hour_user_ghraph.set_axis_labels(\"Hour\", \"Number of Bike Trips\")\n",
    "hour_user_ghraph.set_titles(\"{col_name}\")\n",
    "hour_user_ghraph.fig.suptitle('Ford GoBike system usage by Hour per user type', y=1.1, fontsize=23, fontweight='semibold');"
   ]
  },
  {
   "cell_type": "markdown",
   "metadata": {
    "slideshow": {
     "slide_type": "slide"
    }
   },
   "source": [
    "## (Ford GoBike system usage by weekday per user type & gender)\n",
    "\n",
    "> The number customer Female users is more than subscriber Female users during weekdays."
   ]
  },
  {
   "cell_type": "code",
   "execution_count": 6,
   "metadata": {
    "slideshow": {
     "slide_type": "subslide"
    }
   },
   "outputs": [
    {
     "data": {
      "image/png": "[encoded data removed]",
      "text/plain": [
       "<Figure size 810.375x360 with 2 Axes>"
      ]
     },
     "metadata": {
      "needs_background": "light"
     },
     "output_type": "display_data"
    }
   ],
   "source": [
    "# Ford GoBike system usage by weekday per user type & gender\n",
    "day_gender_user_ghraph = sb.catplot(data = df_clean, x = 'start_time_weekday', col = \"user_type\", hue='member_gender', kind ='count', sharey = False)\n",
    "day_gender_user_ghraph.set_axis_labels(\"WeekDay\", \"Number of Bike Trips\")\n",
    "day_gender_user_ghraph.set_titles(\"{col_name}\")\n",
    "day_gender_user_ghraph.fig.suptitle('Ford GoBike system usage by weekday per user type & gender', y=1.1, fontsize=23, fontweight='semibold')\n",
    "day_gender_user_ghraph._legend.set_title('Gender');"
   ]
  }
 ],
 "metadata": {
  "celltoolbar": "Slideshow",
  "kernelspec": {
   "display_name": "Python 3",
   "language": "python",
   "name": "python3"
  },
  "language_info": {
   "codemirror_mode": {
    "name": "ipython",
    "version": 3
   },
   "file_extension": ".py",
   "mimetype": "text/x-python",
   "name": "python",
   "nbconvert_exporter": "python",
   "pygments_lexer": "ipython3",
   "version": "3.7.3"
  }
 },
 "nbformat": 4,
 "nbformat_minor": 2
}
